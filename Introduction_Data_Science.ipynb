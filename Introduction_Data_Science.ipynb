{
  "nbformat": 4,
  "nbformat_minor": 0,
  "metadata": {
    "colab": {
      "provenance": [],
      "authorship_tag": "ABX9TyPMPt+5Z8UACATiWIeHdT/b",
      "include_colab_link": true
    },
    "kernelspec": {
      "name": "python3",
      "display_name": "Python 3"
    },
    "language_info": {
      "name": "python"
    }
  },
  "cells": [
    {
      "cell_type": "markdown",
      "metadata": {
        "id": "view-in-github",
        "colab_type": "text"
      },
      "source": [
        "<a href=\"https://colab.research.google.com/github/kkarimi62/IntroductionDataScience/blob/main/Introduction_Data_Science.ipynb\" target=\"_parent\"><img src=\"https://colab.research.google.com/assets/colab-badge.svg\" alt=\"Open In Colab\"/></a>"
      ]
    },
    {
      "cell_type": "markdown",
      "source": [
        "# **Introduction to Data Science: Languages, Libraries, Tools, and Basic Operations**"
      ],
      "metadata": {
        "id": "h8i6PUnj3qWK"
      }
    },
    {
      "cell_type": "markdown",
      "source": [
        "# Introduction\n",
        "\n",
        "Welcome to this Data Science notebook. This notebook aims to provide a brief overview of essential elements in Data Science, including the languages used, libraries that facilitate data manipulation and analysis, tools that support data science tasks, and basic arithmetic operations. Through this notebook, you will get a snapshot of the fundamental components required to kickstart your journey in Data Science.\n"
      ],
      "metadata": {
        "id": "SFNpX3Tu4m-m"
      }
    },
    {
      "cell_type": "markdown",
      "source": [
        "There are several programming languages that are commonly used in Data Science. Some of the most popular ones include:\n",
        "\n",
        "1. **Python**\n",
        "2. **R**\n",
        "3. **SQL**\n",
        "4. **Julia**\n",
        "5. **Java**\n",
        "6. **Scala**\n",
        "7. **MATLAB**\n",
        "8. **SAS**\n"
      ],
      "metadata": {
        "id": "3vcvnhbw5ej-"
      }
    },
    {
      "cell_type": "markdown",
      "source": [
        "# Data Science Libraries\n",
        "\n",
        "\n",
        "1. **Pandas** - Data manipulation and analysis\n",
        "2. **NumPy** - Numerical computing\n",
        "3. **Matplotlib** - Data visualization\n",
        "4. **Seaborn** - Statistical data visualization\n",
        "5. **SciPy** - Scientific computing\n",
        "6. **Scikit-learn** - Machine learning\n",
        "7. **TensorFlow** - Deep learning\n",
        "8. **Keras** - Deep learning\n",
        "9. **PyTorch** - Deep learning\n",
        "10. **NLTK** - Natural language processing\n",
        "11. **Statsmodels** - Statistical modeling\n",
        "\n"
      ],
      "metadata": {
        "id": "XN75iTyH53j4"
      }
    },
    {
      "cell_type": "markdown",
      "source": [
        "# Data Science Tools\n",
        "- Jupyter\n",
        "- RStudio\n",
        "- Apache Hadoop\n",
        "- Apache Spark\n",
        "- TensorFlow\n",
        "- KNIME\n",
        "- Tableau\n",
        "- Google Colab\n",
        "- MATLAB\n"
      ],
      "metadata": {
        "id": "Q3p6DrJm6-Nq"
      }
    },
    {
      "cell_type": "code",
      "source": [],
      "metadata": {
        "id": "vASN3RG17WcE"
      },
      "execution_count": null,
      "outputs": []
    },
    {
      "cell_type": "markdown",
      "source": [
        "# Arithmetic Expression Examples"
      ],
      "metadata": {
        "id": "g0N8bqUj7ws-"
      }
    },
    {
      "cell_type": "code",
      "source": [
        "2+5"
      ],
      "metadata": {
        "colab": {
          "base_uri": "https://localhost:8080/"
        },
        "id": "HygEh5F870Lf",
        "outputId": "ae3b040f-1fe9-4f24-f738-eb7cabeda673"
      },
      "execution_count": 1,
      "outputs": [
        {
          "output_type": "execute_result",
          "data": {
            "text/plain": [
              "7"
            ]
          },
          "metadata": {},
          "execution_count": 1
        }
      ]
    },
    {
      "cell_type": "code",
      "source": [
        "7-2"
      ],
      "metadata": {
        "colab": {
          "base_uri": "https://localhost:8080/"
        },
        "id": "oetegERo76i4",
        "outputId": "b0a9d18c-22cc-4950-a704-3f65e709aa45"
      },
      "execution_count": 2,
      "outputs": [
        {
          "output_type": "execute_result",
          "data": {
            "text/plain": [
              "5"
            ]
          },
          "metadata": {},
          "execution_count": 2
        }
      ]
    },
    {
      "cell_type": "code",
      "source": [
        "# Multiply and Add Numbers\n",
        "\n",
        "num1 = 10\n",
        "num2 = 5\n",
        "\n",
        "# Multiply the numbers\n",
        "result_multiply = num1 * num2\n",
        "print(\"Multiplication Result: {}\".format(result_multiply))\n",
        "\n",
        "# Add the numbers\n",
        "result_add = num1 + num2\n",
        "print(\"Addition Result: {}\".format(result_add))\n"
      ],
      "metadata": {
        "colab": {
          "base_uri": "https://localhost:8080/"
        },
        "id": "pDLtro6o8RGC",
        "outputId": "952f346e-539e-48b8-bdbb-95ec334528af"
      },
      "execution_count": 3,
      "outputs": [
        {
          "output_type": "stream",
          "name": "stdout",
          "text": [
            "Multiplication Result: 50\n",
            "Addition Result: 15\n"
          ]
        }
      ]
    },
    {
      "cell_type": "code",
      "source": [
        "# Convert Minutes to Hours\n",
        "\n",
        "# Define a variable for minutes\n",
        "minutes = 150\n",
        "\n",
        "# Convert minutes to hours\n",
        "hours = minutes / 60\n",
        "\n",
        "# Print the result\n",
        "print(\"{} minutes is equal to {} hours\".format(minutes,hours))\n"
      ],
      "metadata": {
        "colab": {
          "base_uri": "https://localhost:8080/"
        },
        "id": "mLs4c2m28rZ3",
        "outputId": "2109bb2d-d2f1-45bf-c8e7-dc889145a10b"
      },
      "execution_count": 5,
      "outputs": [
        {
          "output_type": "stream",
          "name": "stdout",
          "text": [
            "150 minutes is equal to 2.5 hours\n"
          ]
        }
      ]
    },
    {
      "cell_type": "code",
      "source": [],
      "metadata": {
        "id": "k2bWn8gP9Blp"
      },
      "execution_count": null,
      "outputs": []
    },
    {
      "cell_type": "markdown",
      "source": [
        "# Objectives\n",
        "\n",
        "\n",
        "- To create a structured notebook demonstrating knowledge of Markdown and code cells.\n",
        "- To list and describe popular data science languages and libraries.\n",
        "- To showcase familiarity with fundamental data science tools.\n"
      ],
      "metadata": {
        "id": "zTsrGzmi9CQY"
      }
    },
    {
      "cell_type": "code",
      "source": [],
      "metadata": {
        "id": "dXfotOft9KC5"
      },
      "execution_count": null,
      "outputs": []
    },
    {
      "cell_type": "markdown",
      "source": [
        "# Author\n",
        "\n",
        "Author: [My Name]\n"
      ],
      "metadata": {
        "id": "zr3opTW39cgi"
      }
    },
    {
      "cell_type": "code",
      "source": [],
      "metadata": {
        "id": "2WUlQIG89gFY"
      },
      "execution_count": null,
      "outputs": []
    }
  ]
}